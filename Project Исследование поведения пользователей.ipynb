{
 "cells": [
  {
   "cell_type": "markdown",
   "metadata": {},
   "source": [
    "# PROJECT. Исследование поведения пользователей"
   ]
  },
  {
   "cell_type": "markdown",
   "metadata": {},
   "source": [
    "### Загрузка файла, обзор и преобразование данных"
   ]
  },
  {
   "cell_type": "code",
   "execution_count": null,
   "metadata": {},
   "outputs": [],
   "source": [
    "import pandas as pd\n",
    "events = pd.read_csv('7_4_Events.csv')"
   ]
  },
  {
   "cell_type": "code",
   "execution_count": 2,
   "metadata": {
    "scrolled": true
   },
   "outputs": [
    {
     "data": {
      "text/html": [
       "<div>\n",
       "<style scoped>\n",
       "    .dataframe tbody tr th:only-of-type {\n",
       "        vertical-align: middle;\n",
       "    }\n",
       "\n",
       "    .dataframe tbody tr th {\n",
       "        vertical-align: top;\n",
       "    }\n",
       "\n",
       "    .dataframe thead th {\n",
       "        text-align: right;\n",
       "    }\n",
       "</style>\n",
       "<table border=\"1\" class=\"dataframe\">\n",
       "  <thead>\n",
       "    <tr style=\"text-align: right;\">\n",
       "      <th></th>\n",
       "      <th>id</th>\n",
       "      <th>event_type</th>\n",
       "      <th>selected_level</th>\n",
       "      <th>start_time</th>\n",
       "      <th>tutorial_id</th>\n",
       "      <th>user_id</th>\n",
       "    </tr>\n",
       "  </thead>\n",
       "  <tbody>\n",
       "    <tr>\n",
       "      <th>0</th>\n",
       "      <td>28903</td>\n",
       "      <td>registration</td>\n",
       "      <td>NaN</td>\n",
       "      <td>2016-05-11T23:40:55</td>\n",
       "      <td>NaN</td>\n",
       "      <td>12583</td>\n",
       "    </tr>\n",
       "    <tr>\n",
       "      <th>1</th>\n",
       "      <td>28904</td>\n",
       "      <td>registration</td>\n",
       "      <td>NaN</td>\n",
       "      <td>2016-05-11T23:49:58</td>\n",
       "      <td>NaN</td>\n",
       "      <td>12584</td>\n",
       "    </tr>\n",
       "    <tr>\n",
       "      <th>2</th>\n",
       "      <td>28905</td>\n",
       "      <td>registration</td>\n",
       "      <td>NaN</td>\n",
       "      <td>2016-05-12T00:53:07</td>\n",
       "      <td>NaN</td>\n",
       "      <td>12585</td>\n",
       "    </tr>\n",
       "    <tr>\n",
       "      <th>3</th>\n",
       "      <td>28906</td>\n",
       "      <td>tutorial_start</td>\n",
       "      <td>NaN</td>\n",
       "      <td>2016-05-12T01:32:20</td>\n",
       "      <td>17562.0</td>\n",
       "      <td>12585</td>\n",
       "    </tr>\n",
       "    <tr>\n",
       "      <th>4</th>\n",
       "      <td>28907</td>\n",
       "      <td>tutorial_finish</td>\n",
       "      <td>NaN</td>\n",
       "      <td>2016-05-12T01:34:53</td>\n",
       "      <td>17562.0</td>\n",
       "      <td>12585</td>\n",
       "    </tr>\n",
       "    <tr>\n",
       "      <th>5</th>\n",
       "      <td>28908</td>\n",
       "      <td>tutorial_start</td>\n",
       "      <td>NaN</td>\n",
       "      <td>2016-05-12T02:11:29</td>\n",
       "      <td>17563.0</td>\n",
       "      <td>12584</td>\n",
       "    </tr>\n",
       "    <tr>\n",
       "      <th>6</th>\n",
       "      <td>28909</td>\n",
       "      <td>tutorial_finish</td>\n",
       "      <td>NaN</td>\n",
       "      <td>2016-05-12T02:14:14</td>\n",
       "      <td>17563.0</td>\n",
       "      <td>12584</td>\n",
       "    </tr>\n",
       "    <tr>\n",
       "      <th>7</th>\n",
       "      <td>28910</td>\n",
       "      <td>level_choice</td>\n",
       "      <td>hard</td>\n",
       "      <td>2016-05-12T05:30:25</td>\n",
       "      <td>NaN</td>\n",
       "      <td>12584</td>\n",
       "    </tr>\n",
       "    <tr>\n",
       "      <th>8</th>\n",
       "      <td>28911</td>\n",
       "      <td>pack_choice</td>\n",
       "      <td>NaN</td>\n",
       "      <td>2016-05-12T05:38:24</td>\n",
       "      <td>NaN</td>\n",
       "      <td>12584</td>\n",
       "    </tr>\n",
       "    <tr>\n",
       "      <th>9</th>\n",
       "      <td>28912</td>\n",
       "      <td>tutorial_start</td>\n",
       "      <td>NaN</td>\n",
       "      <td>2016-05-12T07:19:01</td>\n",
       "      <td>17564.0</td>\n",
       "      <td>12583</td>\n",
       "    </tr>\n",
       "  </tbody>\n",
       "</table>\n",
       "</div>"
      ],
      "text/plain": [
       "      id       event_type selected_level           start_time  tutorial_id  \\\n",
       "0  28903     registration            NaN  2016-05-11T23:40:55          NaN   \n",
       "1  28904     registration            NaN  2016-05-11T23:49:58          NaN   \n",
       "2  28905     registration            NaN  2016-05-12T00:53:07          NaN   \n",
       "3  28906   tutorial_start            NaN  2016-05-12T01:32:20      17562.0   \n",
       "4  28907  tutorial_finish            NaN  2016-05-12T01:34:53      17562.0   \n",
       "5  28908   tutorial_start            NaN  2016-05-12T02:11:29      17563.0   \n",
       "6  28909  tutorial_finish            NaN  2016-05-12T02:14:14      17563.0   \n",
       "7  28910     level_choice           hard  2016-05-12T05:30:25          NaN   \n",
       "8  28911      pack_choice            NaN  2016-05-12T05:38:24          NaN   \n",
       "9  28912   tutorial_start            NaN  2016-05-12T07:19:01      17564.0   \n",
       "\n",
       "   user_id  \n",
       "0    12583  \n",
       "1    12584  \n",
       "2    12585  \n",
       "3    12585  \n",
       "4    12585  \n",
       "5    12584  \n",
       "6    12584  \n",
       "7    12584  \n",
       "8    12584  \n",
       "9    12583  "
      ]
     },
     "execution_count": 2,
     "metadata": {},
     "output_type": "execute_result"
    }
   ],
   "source": [
    "events.head(10)"
   ]
  },
  {
   "cell_type": "code",
   "execution_count": 3,
   "metadata": {
    "scrolled": true
   },
   "outputs": [
    {
     "name": "stdout",
     "output_type": "stream",
     "text": [
      "<class 'pandas.core.frame.DataFrame'>\n",
      "RangeIndex: 252334 entries, 0 to 252333\n",
      "Data columns (total 6 columns):\n",
      " #   Column          Non-Null Count   Dtype  \n",
      "---  ------          --------------   -----  \n",
      " 0   id              252334 non-null  int64  \n",
      " 1   event_type      252334 non-null  object \n",
      " 2   selected_level  31086 non-null   object \n",
      " 3   start_time      252334 non-null  object \n",
      " 4   tutorial_id     125103 non-null  float64\n",
      " 5   user_id         252334 non-null  int64  \n",
      "dtypes: float64(1), int64(2), object(3)\n",
      "memory usage: 11.6+ MB\n"
     ]
    }
   ],
   "source": [
    "events.info()"
   ]
  },
  {
   "cell_type": "markdown",
   "metadata": {},
   "source": [
    "### Отбираем пользователей, которые зарегистрировались в 2018 году (с 1 января по 31 декабря 2018 года включительно)"
   ]
  },
  {
   "cell_type": "code",
   "execution_count": 6,
   "metadata": {},
   "outputs": [
    {
     "name": "stdout",
     "output_type": "stream",
     "text": [
      "<class 'pandas.core.frame.DataFrame'>\n",
      "Int64Index: 66959 entries, 51405 to 118364\n",
      "Data columns (total 6 columns):\n",
      " #   Column          Non-Null Count  Dtype  \n",
      "---  ------          --------------  -----  \n",
      " 0   id              66959 non-null  int64  \n",
      " 1   event_type      66959 non-null  object \n",
      " 2   selected_level  8342 non-null   object \n",
      " 3   start_time      66959 non-null  object \n",
      " 4   tutorial_id     32954 non-null  float64\n",
      " 5   user_id         66959 non-null  int64  \n",
      "dtypes: float64(1), int64(2), object(3)\n",
      "memory usage: 3.6+ MB\n"
     ]
    }
   ],
   "source": [
    "cond = (events.start_time>='2018-01-01') & (events.start_time<'2019-01-01') & (events.event_type=='registration')\n",
    "registered = events[cond]['user_id'].to_list() # список пользователей, зарег. в 2018\n",
    "events18 = events[events.user_id.isin(registered)]\n",
    "events18.info()"
   ]
  },
  {
   "cell_type": "code",
   "execution_count": 181,
   "metadata": {
    "scrolled": true
   },
   "outputs": [
    {
     "data": {
      "text/html": [
       "<div>\n",
       "<style scoped>\n",
       "    .dataframe tbody tr th:only-of-type {\n",
       "        vertical-align: middle;\n",
       "    }\n",
       "\n",
       "    .dataframe tbody tr th {\n",
       "        vertical-align: top;\n",
       "    }\n",
       "\n",
       "    .dataframe thead th {\n",
       "        text-align: right;\n",
       "    }\n",
       "</style>\n",
       "<table border=\"1\" class=\"dataframe\">\n",
       "  <thead>\n",
       "    <tr style=\"text-align: right;\">\n",
       "      <th></th>\n",
       "      <th>event_id</th>\n",
       "      <th>event_type</th>\n",
       "      <th>selected_level</th>\n",
       "      <th>start_time</th>\n",
       "      <th>tutorial_id</th>\n",
       "      <th>user_id</th>\n",
       "    </tr>\n",
       "  </thead>\n",
       "  <tbody>\n",
       "    <tr>\n",
       "      <th>count</th>\n",
       "      <td>66959.000000</td>\n",
       "      <td>66959</td>\n",
       "      <td>8342</td>\n",
       "      <td>66959</td>\n",
       "      <td>32954.000000</td>\n",
       "      <td>66959.000000</td>\n",
       "    </tr>\n",
       "    <tr>\n",
       "      <th>unique</th>\n",
       "      <td>NaN</td>\n",
       "      <td>5</td>\n",
       "      <td>3</td>\n",
       "      <td>66809</td>\n",
       "      <td>NaN</td>\n",
       "      <td>NaN</td>\n",
       "    </tr>\n",
       "    <tr>\n",
       "      <th>top</th>\n",
       "      <td>NaN</td>\n",
       "      <td>registration</td>\n",
       "      <td>medium</td>\n",
       "      <td>2018-03-13T09:37:43</td>\n",
       "      <td>NaN</td>\n",
       "      <td>NaN</td>\n",
       "    </tr>\n",
       "    <tr>\n",
       "      <th>freq</th>\n",
       "      <td>NaN</td>\n",
       "      <td>19926</td>\n",
       "      <td>4645</td>\n",
       "      <td>9</td>\n",
       "      <td>NaN</td>\n",
       "      <td>NaN</td>\n",
       "    </tr>\n",
       "    <tr>\n",
       "      <th>mean</th>\n",
       "      <td>113787.000045</td>\n",
       "      <td>NaN</td>\n",
       "      <td>NaN</td>\n",
       "      <td>NaN</td>\n",
       "      <td>40532.934393</td>\n",
       "      <td>37781.543362</td>\n",
       "    </tr>\n",
       "    <tr>\n",
       "      <th>std</th>\n",
       "      <td>19329.542752</td>\n",
       "      <td>NaN</td>\n",
       "      <td>NaN</td>\n",
       "      <td>NaN</td>\n",
       "      <td>5213.486632</td>\n",
       "      <td>5751.497904</td>\n",
       "    </tr>\n",
       "    <tr>\n",
       "      <th>min</th>\n",
       "      <td>80308.000000</td>\n",
       "      <td>NaN</td>\n",
       "      <td>NaN</td>\n",
       "      <td>NaN</td>\n",
       "      <td>31505.000000</td>\n",
       "      <td>27832.000000</td>\n",
       "    </tr>\n",
       "    <tr>\n",
       "      <th>25%</th>\n",
       "      <td>97047.500000</td>\n",
       "      <td>NaN</td>\n",
       "      <td>NaN</td>\n",
       "      <td>NaN</td>\n",
       "      <td>36008.250000</td>\n",
       "      <td>32849.000000</td>\n",
       "    </tr>\n",
       "    <tr>\n",
       "      <th>50%</th>\n",
       "      <td>113787.000000</td>\n",
       "      <td>NaN</td>\n",
       "      <td>NaN</td>\n",
       "      <td>NaN</td>\n",
       "      <td>40529.500000</td>\n",
       "      <td>37719.000000</td>\n",
       "    </tr>\n",
       "    <tr>\n",
       "      <th>75%</th>\n",
       "      <td>130526.500000</td>\n",
       "      <td>NaN</td>\n",
       "      <td>NaN</td>\n",
       "      <td>NaN</td>\n",
       "      <td>45057.750000</td>\n",
       "      <td>42733.000000</td>\n",
       "    </tr>\n",
       "    <tr>\n",
       "      <th>max</th>\n",
       "      <td>147267.000000</td>\n",
       "      <td>NaN</td>\n",
       "      <td>NaN</td>\n",
       "      <td>NaN</td>\n",
       "      <td>49554.000000</td>\n",
       "      <td>47757.000000</td>\n",
       "    </tr>\n",
       "  </tbody>\n",
       "</table>\n",
       "</div>"
      ],
      "text/plain": [
       "             event_id    event_type selected_level           start_time  \\\n",
       "count    66959.000000         66959           8342                66959   \n",
       "unique            NaN             5              3                66809   \n",
       "top               NaN  registration         medium  2018-03-13T09:37:43   \n",
       "freq              NaN         19926           4645                    9   \n",
       "mean    113787.000045           NaN            NaN                  NaN   \n",
       "std      19329.542752           NaN            NaN                  NaN   \n",
       "min      80308.000000           NaN            NaN                  NaN   \n",
       "25%      97047.500000           NaN            NaN                  NaN   \n",
       "50%     113787.000000           NaN            NaN                  NaN   \n",
       "75%     130526.500000           NaN            NaN                  NaN   \n",
       "max     147267.000000           NaN            NaN                  NaN   \n",
       "\n",
       "         tutorial_id       user_id  \n",
       "count   32954.000000  66959.000000  \n",
       "unique           NaN           NaN  \n",
       "top              NaN           NaN  \n",
       "freq             NaN           NaN  \n",
       "mean    40532.934393  37781.543362  \n",
       "std      5213.486632   5751.497904  \n",
       "min     31505.000000  27832.000000  \n",
       "25%     36008.250000  32849.000000  \n",
       "50%     40529.500000  37719.000000  \n",
       "75%     45057.750000  42733.000000  \n",
       "max     49554.000000  47757.000000  "
      ]
     },
     "execution_count": 181,
     "metadata": {},
     "output_type": "execute_result"
    }
   ],
   "source": [
    "events18.describe(include = 'all')"
   ]
  },
  {
   "cell_type": "code",
   "execution_count": 182,
   "metadata": {},
   "outputs": [
    {
     "data": {
      "text/plain": [
       "array(['registration', 'tutorial_start', 'tutorial_finish',\n",
       "       'level_choice', 'pack_choice'], dtype=object)"
      ]
     },
     "execution_count": 182,
     "metadata": {},
     "output_type": "execute_result"
    }
   ],
   "source": [
    "events18.event_type.unique()"
   ]
  },
  {
   "cell_type": "code",
   "execution_count": 183,
   "metadata": {},
   "outputs": [
    {
     "data": {
      "text/plain": [
       "array([nan, 'medium', 'hard', 'easy'], dtype=object)"
      ]
     },
     "execution_count": 183,
     "metadata": {},
     "output_type": "execute_result"
    }
   ],
   "source": [
    "events18.selected_level.unique()"
   ]
  },
  {
   "cell_type": "code",
   "execution_count": 184,
   "metadata": {},
   "outputs": [
    {
     "data": {
      "text/plain": [
       "19926"
      ]
     },
     "execution_count": 184,
     "metadata": {},
     "output_type": "execute_result"
    }
   ],
   "source": [
    "events18.user_id.nunique()"
   ]
  },
  {
   "cell_type": "markdown",
   "metadata": {},
   "source": [
    "### Открываем файл с данными о совершенных транзакциях"
   ]
  },
  {
   "cell_type": "code",
   "execution_count": 15,
   "metadata": {},
   "outputs": [],
   "source": [
    "purch = pd.read_csv('purchase_-_purchase.csv')"
   ]
  },
  {
   "cell_type": "code",
   "execution_count": 16,
   "metadata": {},
   "outputs": [
    {
     "data": {
      "text/html": [
       "<div>\n",
       "<style scoped>\n",
       "    .dataframe tbody tr th:only-of-type {\n",
       "        vertical-align: middle;\n",
       "    }\n",
       "\n",
       "    .dataframe tbody tr th {\n",
       "        vertical-align: top;\n",
       "    }\n",
       "\n",
       "    .dataframe thead th {\n",
       "        text-align: right;\n",
       "    }\n",
       "</style>\n",
       "<table border=\"1\" class=\"dataframe\">\n",
       "  <thead>\n",
       "    <tr style=\"text-align: right;\">\n",
       "      <th></th>\n",
       "      <th>id</th>\n",
       "      <th>user_id</th>\n",
       "      <th>event_datetime</th>\n",
       "      <th>amount</th>\n",
       "    </tr>\n",
       "  </thead>\n",
       "  <tbody>\n",
       "    <tr>\n",
       "      <th>0</th>\n",
       "      <td>15674</td>\n",
       "      <td>12584</td>\n",
       "      <td>2016-05-12T10:34:16</td>\n",
       "      <td>100</td>\n",
       "    </tr>\n",
       "    <tr>\n",
       "      <th>1</th>\n",
       "      <td>15675</td>\n",
       "      <td>12985</td>\n",
       "      <td>2016-05-13T08:25:56</td>\n",
       "      <td>50</td>\n",
       "    </tr>\n",
       "    <tr>\n",
       "      <th>2</th>\n",
       "      <td>15676</td>\n",
       "      <td>12828</td>\n",
       "      <td>2016-05-13T16:33:46</td>\n",
       "      <td>50</td>\n",
       "    </tr>\n",
       "    <tr>\n",
       "      <th>3</th>\n",
       "      <td>15677</td>\n",
       "      <td>12598</td>\n",
       "      <td>2016-05-14T01:09:37</td>\n",
       "      <td>150</td>\n",
       "    </tr>\n",
       "    <tr>\n",
       "      <th>4</th>\n",
       "      <td>15678</td>\n",
       "      <td>13037</td>\n",
       "      <td>2016-05-14T01:24:46</td>\n",
       "      <td>100</td>\n",
       "    </tr>\n",
       "    <tr>\n",
       "      <th>5</th>\n",
       "      <td>15679</td>\n",
       "      <td>12989</td>\n",
       "      <td>2016-05-14T02:19:20</td>\n",
       "      <td>200</td>\n",
       "    </tr>\n",
       "    <tr>\n",
       "      <th>6</th>\n",
       "      <td>15680</td>\n",
       "      <td>12684</td>\n",
       "      <td>2016-05-14T03:10:14</td>\n",
       "      <td>100</td>\n",
       "    </tr>\n",
       "    <tr>\n",
       "      <th>7</th>\n",
       "      <td>15681</td>\n",
       "      <td>12656</td>\n",
       "      <td>2016-05-14T03:42:48</td>\n",
       "      <td>100</td>\n",
       "    </tr>\n",
       "    <tr>\n",
       "      <th>8</th>\n",
       "      <td>15682</td>\n",
       "      <td>12624</td>\n",
       "      <td>2016-05-14T06:00:45</td>\n",
       "      <td>50</td>\n",
       "    </tr>\n",
       "    <tr>\n",
       "      <th>9</th>\n",
       "      <td>15683</td>\n",
       "      <td>13136</td>\n",
       "      <td>2016-05-14T07:31:03</td>\n",
       "      <td>50</td>\n",
       "    </tr>\n",
       "  </tbody>\n",
       "</table>\n",
       "</div>"
      ],
      "text/plain": [
       "      id  user_id       event_datetime  amount\n",
       "0  15674    12584  2016-05-12T10:34:16     100\n",
       "1  15675    12985  2016-05-13T08:25:56      50\n",
       "2  15676    12828  2016-05-13T16:33:46      50\n",
       "3  15677    12598  2016-05-14T01:09:37     150\n",
       "4  15678    13037  2016-05-14T01:24:46     100\n",
       "5  15679    12989  2016-05-14T02:19:20     200\n",
       "6  15680    12684  2016-05-14T03:10:14     100\n",
       "7  15681    12656  2016-05-14T03:42:48     100\n",
       "8  15682    12624  2016-05-14T06:00:45      50\n",
       "9  15683    13136  2016-05-14T07:31:03      50"
      ]
     },
     "execution_count": 16,
     "metadata": {},
     "output_type": "execute_result"
    }
   ],
   "source": [
    "purch.head(10)"
   ]
  },
  {
   "cell_type": "code",
   "execution_count": 17,
   "metadata": {},
   "outputs": [
    {
     "name": "stdout",
     "output_type": "stream",
     "text": [
      "<class 'pandas.core.frame.DataFrame'>\n",
      "RangeIndex: 5956 entries, 0 to 5955\n",
      "Data columns (total 4 columns):\n",
      " #   Column          Non-Null Count  Dtype \n",
      "---  ------          --------------  ----- \n",
      " 0   id              5956 non-null   int64 \n",
      " 1   user_id         5956 non-null   int64 \n",
      " 2   event_datetime  5956 non-null   object\n",
      " 3   amount          5956 non-null   int64 \n",
      "dtypes: int64(3), object(1)\n",
      "memory usage: 186.2+ KB\n"
     ]
    }
   ],
   "source": [
    "purch.info()"
   ]
  },
  {
   "cell_type": "markdown",
   "metadata": {},
   "source": [
    "### Отбираем покупки пользователей, зарег. в 2018 году"
   ]
  },
  {
   "cell_type": "code",
   "execution_count": 18,
   "metadata": {},
   "outputs": [
    {
     "name": "stdout",
     "output_type": "stream",
     "text": [
      "<class 'pandas.core.frame.DataFrame'>\n",
      "Int64Index: 1600 entries, 1171 to 2778\n",
      "Data columns (total 4 columns):\n",
      " #   Column          Non-Null Count  Dtype \n",
      "---  ------          --------------  ----- \n",
      " 0   id              1600 non-null   int64 \n",
      " 1   user_id         1600 non-null   int64 \n",
      " 2   event_datetime  1600 non-null   object\n",
      " 3   amount          1600 non-null   int64 \n",
      "dtypes: int64(3), object(1)\n",
      "memory usage: 62.5+ KB\n"
     ]
    }
   ],
   "source": [
    "purch18 = purch[purch.user_id.isin(registered)]\n",
    "purch18.info()"
   ]
  },
  {
   "cell_type": "code",
   "execution_count": 19,
   "metadata": {},
   "outputs": [
    {
     "data": {
      "text/html": [
       "<div>\n",
       "<style scoped>\n",
       "    .dataframe tbody tr th:only-of-type {\n",
       "        vertical-align: middle;\n",
       "    }\n",
       "\n",
       "    .dataframe tbody tr th {\n",
       "        vertical-align: top;\n",
       "    }\n",
       "\n",
       "    .dataframe thead th {\n",
       "        text-align: right;\n",
       "    }\n",
       "</style>\n",
       "<table border=\"1\" class=\"dataframe\">\n",
       "  <thead>\n",
       "    <tr style=\"text-align: right;\">\n",
       "      <th></th>\n",
       "      <th>id</th>\n",
       "      <th>user_id</th>\n",
       "      <th>amount</th>\n",
       "    </tr>\n",
       "  </thead>\n",
       "  <tbody>\n",
       "    <tr>\n",
       "      <th>count</th>\n",
       "      <td>1600.000000</td>\n",
       "      <td>1600.000000</td>\n",
       "      <td>1600.000000</td>\n",
       "    </tr>\n",
       "    <tr>\n",
       "      <th>mean</th>\n",
       "      <td>17645.505625</td>\n",
       "      <td>37752.766250</td>\n",
       "      <td>110.734375</td>\n",
       "    </tr>\n",
       "    <tr>\n",
       "      <th>std</th>\n",
       "      <td>462.038637</td>\n",
       "      <td>5822.621784</td>\n",
       "      <td>54.696628</td>\n",
       "    </tr>\n",
       "    <tr>\n",
       "      <th>min</th>\n",
       "      <td>16845.000000</td>\n",
       "      <td>27845.000000</td>\n",
       "      <td>25.000000</td>\n",
       "    </tr>\n",
       "    <tr>\n",
       "      <th>25%</th>\n",
       "      <td>17245.750000</td>\n",
       "      <td>32815.750000</td>\n",
       "      <td>50.000000</td>\n",
       "    </tr>\n",
       "    <tr>\n",
       "      <th>50%</th>\n",
       "      <td>17645.500000</td>\n",
       "      <td>37633.500000</td>\n",
       "      <td>100.000000</td>\n",
       "    </tr>\n",
       "    <tr>\n",
       "      <th>75%</th>\n",
       "      <td>18045.250000</td>\n",
       "      <td>43023.000000</td>\n",
       "      <td>150.000000</td>\n",
       "    </tr>\n",
       "    <tr>\n",
       "      <th>max</th>\n",
       "      <td>18452.000000</td>\n",
       "      <td>47742.000000</td>\n",
       "      <td>300.000000</td>\n",
       "    </tr>\n",
       "  </tbody>\n",
       "</table>\n",
       "</div>"
      ],
      "text/plain": [
       "                 id       user_id       amount\n",
       "count   1600.000000   1600.000000  1600.000000\n",
       "mean   17645.505625  37752.766250   110.734375\n",
       "std      462.038637   5822.621784    54.696628\n",
       "min    16845.000000  27845.000000    25.000000\n",
       "25%    17245.750000  32815.750000    50.000000\n",
       "50%    17645.500000  37633.500000   100.000000\n",
       "75%    18045.250000  43023.000000   150.000000\n",
       "max    18452.000000  47742.000000   300.000000"
      ]
     },
     "execution_count": 19,
     "metadata": {},
     "output_type": "execute_result"
    }
   ],
   "source": [
    "purch18.describe()"
   ]
  },
  {
   "cell_type": "markdown",
   "metadata": {},
   "source": [
    "## Предположение №1\n",
    "### Зависит ли вероятность оплаты от выбранного пользователем уровня сложности?"
   ]
  },
  {
   "cell_type": "code",
   "execution_count": 189,
   "metadata": {},
   "outputs": [
    {
     "data": {
      "text/plain": [
       "array([nan, 'medium', 'hard', 'easy'], dtype=object)"
      ]
     },
     "execution_count": 189,
     "metadata": {},
     "output_type": "execute_result"
    }
   ],
   "source": [
    "events18.selected_level.unique()"
   ]
  },
  {
   "cell_type": "markdown",
   "metadata": {},
   "source": [
    "### Процент пользователей от каждой группы"
   ]
  },
  {
   "cell_type": "code",
   "execution_count": null,
   "metadata": {},
   "outputs": [],
   "source": [
    "# Общее кол-во зарегистрировавшихся\n",
    "registered_users_count = events18[events18.event_type == 'registration'].user_id.nunique()"
   ]
  },
  {
   "cell_type": "code",
   "execution_count": 202,
   "metadata": {},
   "outputs": [
    {
     "data": {
      "text/plain": [
       "2448"
      ]
     },
     "execution_count": 202,
     "metadata": {},
     "output_type": "execute_result"
    }
   ],
   "source": [
    "easy_lvl_count = events18[events18.selected_level == 'easy'].user_id.nunique()\n",
    "easy_lvl_count"
   ]
  },
  {
   "cell_type": "code",
   "execution_count": 203,
   "metadata": {},
   "outputs": [
    {
     "name": "stdout",
     "output_type": "stream",
     "text": [
      "Процент пользователей, которые выбрали легкий уровень (от числа зарег. пользователей): 12.29%\n"
     ]
    }
   ],
   "source": [
    "percent_of_easy_users = easy_lvl_count / registered_users_count\n",
    "print ('Процент пользователей, которые выбрали легкий уровень (от числа зарег. пользователей): {:.2%}'.format(percent_of_easy_users))"
   ]
  },
  {
   "cell_type": "code",
   "execution_count": 205,
   "metadata": {},
   "outputs": [
    {
     "data": {
      "text/plain": [
       "4645"
      ]
     },
     "execution_count": 205,
     "metadata": {},
     "output_type": "execute_result"
    }
   ],
   "source": [
    "med_lvl_count = events18[events18.selected_level == 'medium'].user_id.nunique()\n",
    "med_lvl_count"
   ]
  },
  {
   "cell_type": "code",
   "execution_count": 206,
   "metadata": {},
   "outputs": [
    {
     "name": "stdout",
     "output_type": "stream",
     "text": [
      "Процент пользователей, которые выбрали средний уровень (от числа зарег. пользователей): 23.31%\n"
     ]
    }
   ],
   "source": [
    "percent_of_med_users = med_lvl_count / registered_users_count\n",
    "print ('Процент пользователей, которые выбрали средний уровень (от числа зарег. пользователей): {:.2%}'.format(percent_of_med_users))"
   ]
  },
  {
   "cell_type": "code",
   "execution_count": 207,
   "metadata": {},
   "outputs": [
    {
     "data": {
      "text/plain": [
       "1249"
      ]
     },
     "execution_count": 207,
     "metadata": {},
     "output_type": "execute_result"
    }
   ],
   "source": [
    "hard_lvl_count = events18[events18.selected_level == 'hard'].user_id.nunique()\n",
    "hard_lvl_count"
   ]
  },
  {
   "cell_type": "code",
   "execution_count": 208,
   "metadata": {},
   "outputs": [
    {
     "name": "stdout",
     "output_type": "stream",
     "text": [
      "Процент пользователей, которые выбрали сложный уровень (от числа зарег. пользователей): 6.27%\n"
     ]
    }
   ],
   "source": [
    "percent_of_hard_users = hard_lvl_count / registered_users_count\n",
    "print ('Процент пользователей, которые выбрали сложный уровень (от числа зарег. пользователей): {:.2%}'.format(percent_of_hard_users))"
   ]
  },
  {
   "cell_type": "markdown",
   "metadata": {},
   "source": [
    "### Процент пользователей, оплативших доп. уровни, от каждой группы"
   ]
  },
  {
   "cell_type": "code",
   "execution_count": 210,
   "metadata": {},
   "outputs": [],
   "source": [
    "easy_lvl_users = events18[events18.selected_level == 'easy'].user_id.unique()\n",
    "purch_easy = purch18[purch18['user_id'].isin(easy_lvl_users)].user_id.nunique()"
   ]
  },
  {
   "cell_type": "code",
   "execution_count": 211,
   "metadata": {},
   "outputs": [
    {
     "name": "stdout",
     "output_type": "stream",
     "text": [
      "Процент пользователей, которые оплатили вопросы (от числа пользователей, которые выбрали легкий уровень): 7.72%\n"
     ]
    }
   ],
   "source": [
    "percent_of_easy_purch_users = purch_easy / len(easy_lvl_users)\n",
    "print ('Процент пользователей, которые оплатили вопросы (от числа пользователей, которые выбрали легкий уровень): {:.2%}'.format(percent_of_easy_purch_users))"
   ]
  },
  {
   "cell_type": "code",
   "execution_count": 212,
   "metadata": {},
   "outputs": [],
   "source": [
    "med_lvl_users = events18[events18.selected_level == 'medium'].user_id.unique()\n",
    "purch_med = purch18[purch18['user_id'].isin(med_lvl_users)].user_id.nunique()"
   ]
  },
  {
   "cell_type": "code",
   "execution_count": 213,
   "metadata": {},
   "outputs": [
    {
     "name": "stdout",
     "output_type": "stream",
     "text": [
      "Процент пользователей, которые оплатили вопросы (от числа пользователей, которые выбрали средний уровень): 20.86%\n"
     ]
    }
   ],
   "source": [
    "percent_of_med_purch_users = purch_med / len(med_lvl_users)\n",
    "print ('Процент пользователей, которые оплатили вопросы (от числа пользователей, которые выбрали средний уровень): {:.2%}'.format(percent_of_med_purch_users))"
   ]
  },
  {
   "cell_type": "code",
   "execution_count": 215,
   "metadata": {},
   "outputs": [],
   "source": [
    "hard_lvl_users = events18[events18.selected_level == 'hard'].user_id.unique()\n",
    "purch_hard = purch18[purch18['user_id'].isin(hard_lvl_users)].user_id.nunique()"
   ]
  },
  {
   "cell_type": "code",
   "execution_count": 216,
   "metadata": {},
   "outputs": [
    {
     "name": "stdout",
     "output_type": "stream",
     "text": [
      "Процент пользователей, которые оплатили вопросы (от числа пользователей, которые выбрали средний уровень): 35.39%\n"
     ]
    }
   ],
   "source": [
    "percent_of_hard_purch_users = purch_hard / len(hard_lvl_users)\n",
    "print ('Процент пользователей, которые оплатили вопросы (от числа пользователей, которые выбрали средний уровень): {:.2%}'.format(percent_of_hard_purch_users))"
   ]
  },
  {
   "cell_type": "markdown",
   "metadata": {},
   "source": [
    "### Присутствует зависимость между выбором уровня и оплатой. Чем выше уровень, тем выше вероятность покупки доп. пакетов."
   ]
  },
  {
   "cell_type": "markdown",
   "metadata": {},
   "source": [
    "## Предположение №2\n",
    "\n",
    "### Существует ли разница во времени между событиями регистрации и оплаты для разных групп пользователей с разным уровнем сложности?"
   ]
  },
  {
   "cell_type": "code",
   "execution_count": 217,
   "metadata": {},
   "outputs": [],
   "source": [
    "#Датафреймы с событиями оплаты\n",
    "purch_easy_df = purch18[purch18['user_id'].isin(easy_lvl_users)]\n",
    "purch_med_df = purch18[purch18['user_id'].isin(med_lvl_users)]\n",
    "purch_hard_df = purch18[purch18['user_id'].isin(hard_lvl_users)]"
   ]
  },
  {
   "cell_type": "code",
   "execution_count": 225,
   "metadata": {},
   "outputs": [
    {
     "data": {
      "text/plain": [
       "True"
      ]
     },
     "execution_count": 225,
     "metadata": {},
     "output_type": "execute_result"
    }
   ],
   "source": [
    "purch_easy_df.user_id.value_counts().mean() + purch_med_df.user_id.value_counts().mean() + purch_hard_df.user_id.value_counts().mean() == 3"
   ]
  },
  {
   "cell_type": "code",
   "execution_count": 218,
   "metadata": {},
   "outputs": [],
   "source": [
    "#Датафреймы с событиями выбора уровня сложности\n",
    "easy_lvl_users = events18[events18.selected_level == 'easy']\n",
    "med_lvl_users = events18[events18.selected_level == 'medium']\n",
    "hard_lvl_users = events18[events18.selected_level == 'hard']"
   ]
  },
  {
   "cell_type": "code",
   "execution_count": 226,
   "metadata": {},
   "outputs": [
    {
     "data": {
      "text/plain": [
       "True"
      ]
     },
     "execution_count": 226,
     "metadata": {},
     "output_type": "execute_result"
    }
   ],
   "source": [
    "easy_lvl_users.user_id.value_counts().mean() + med_lvl_users.user_id.value_counts().mean() + hard_lvl_users.user_id.value_counts().mean() == 3"
   ]
  },
  {
   "cell_type": "code",
   "execution_count": 227,
   "metadata": {},
   "outputs": [
    {
     "data": {
      "text/html": [
       "<div>\n",
       "<style scoped>\n",
       "    .dataframe tbody tr th:only-of-type {\n",
       "        vertical-align: middle;\n",
       "    }\n",
       "\n",
       "    .dataframe tbody tr th {\n",
       "        vertical-align: top;\n",
       "    }\n",
       "\n",
       "    .dataframe thead th {\n",
       "        text-align: right;\n",
       "    }\n",
       "</style>\n",
       "<table border=\"1\" class=\"dataframe\">\n",
       "  <thead>\n",
       "    <tr style=\"text-align: right;\">\n",
       "      <th></th>\n",
       "      <th>event_id</th>\n",
       "      <th>event_type_x</th>\n",
       "      <th>selected_level</th>\n",
       "      <th>start_time</th>\n",
       "      <th>tutorial_id</th>\n",
       "      <th>user_id</th>\n",
       "      <th>purch_id</th>\n",
       "      <th>event_datetime</th>\n",
       "      <th>amount</th>\n",
       "      <th>event_type_y</th>\n",
       "    </tr>\n",
       "  </thead>\n",
       "  <tbody>\n",
       "    <tr>\n",
       "      <th>0</th>\n",
       "      <td>80488</td>\n",
       "      <td>level_choice</td>\n",
       "      <td>easy</td>\n",
       "      <td>2018-01-04T16:18:39</td>\n",
       "      <td>NaN</td>\n",
       "      <td>27884</td>\n",
       "      <td>16854</td>\n",
       "      <td>2018-01-08T19:37:34</td>\n",
       "      <td>150</td>\n",
       "      <td>purchase</td>\n",
       "    </tr>\n",
       "    <tr>\n",
       "      <th>1</th>\n",
       "      <td>81064</td>\n",
       "      <td>level_choice</td>\n",
       "      <td>easy</td>\n",
       "      <td>2018-01-09T21:34:23</td>\n",
       "      <td>NaN</td>\n",
       "      <td>28090</td>\n",
       "      <td>16873</td>\n",
       "      <td>2018-01-15T23:42:55</td>\n",
       "      <td>100</td>\n",
       "      <td>purchase</td>\n",
       "    </tr>\n",
       "    <tr>\n",
       "      <th>2</th>\n",
       "      <td>81472</td>\n",
       "      <td>level_choice</td>\n",
       "      <td>easy</td>\n",
       "      <td>2018-01-11T18:44:45</td>\n",
       "      <td>NaN</td>\n",
       "      <td>28182</td>\n",
       "      <td>16865</td>\n",
       "      <td>2018-01-12T02:46:01</td>\n",
       "      <td>200</td>\n",
       "      <td>purchase</td>\n",
       "    </tr>\n",
       "    <tr>\n",
       "      <th>3</th>\n",
       "      <td>81513</td>\n",
       "      <td>level_choice</td>\n",
       "      <td>easy</td>\n",
       "      <td>2018-01-11T21:10:51</td>\n",
       "      <td>NaN</td>\n",
       "      <td>28207</td>\n",
       "      <td>16867</td>\n",
       "      <td>2018-01-12T21:00:24</td>\n",
       "      <td>150</td>\n",
       "      <td>purchase</td>\n",
       "    </tr>\n",
       "    <tr>\n",
       "      <th>4</th>\n",
       "      <td>81660</td>\n",
       "      <td>level_choice</td>\n",
       "      <td>easy</td>\n",
       "      <td>2018-01-12T16:48:24</td>\n",
       "      <td>NaN</td>\n",
       "      <td>28254</td>\n",
       "      <td>16892</td>\n",
       "      <td>2018-01-19T22:08:40</td>\n",
       "      <td>50</td>\n",
       "      <td>purchase</td>\n",
       "    </tr>\n",
       "    <tr>\n",
       "      <th>5</th>\n",
       "      <td>81667</td>\n",
       "      <td>level_choice</td>\n",
       "      <td>easy</td>\n",
       "      <td>2018-01-12T17:23:50</td>\n",
       "      <td>NaN</td>\n",
       "      <td>28247</td>\n",
       "      <td>16884</td>\n",
       "      <td>2018-01-18T18:32:05</td>\n",
       "      <td>150</td>\n",
       "      <td>purchase</td>\n",
       "    </tr>\n",
       "    <tr>\n",
       "      <th>6</th>\n",
       "      <td>82042</td>\n",
       "      <td>level_choice</td>\n",
       "      <td>easy</td>\n",
       "      <td>2018-01-15T20:09:23</td>\n",
       "      <td>NaN</td>\n",
       "      <td>28378</td>\n",
       "      <td>16880</td>\n",
       "      <td>2018-01-18T02:11:41</td>\n",
       "      <td>100</td>\n",
       "      <td>purchase</td>\n",
       "    </tr>\n",
       "    <tr>\n",
       "      <th>7</th>\n",
       "      <td>82575</td>\n",
       "      <td>level_choice</td>\n",
       "      <td>easy</td>\n",
       "      <td>2018-01-18T13:40:43</td>\n",
       "      <td>NaN</td>\n",
       "      <td>28546</td>\n",
       "      <td>16917</td>\n",
       "      <td>2018-01-23T22:55:27</td>\n",
       "      <td>200</td>\n",
       "      <td>purchase</td>\n",
       "    </tr>\n",
       "    <tr>\n",
       "      <th>8</th>\n",
       "      <td>82673</td>\n",
       "      <td>level_choice</td>\n",
       "      <td>easy</td>\n",
       "      <td>2018-01-18T19:38:15</td>\n",
       "      <td>NaN</td>\n",
       "      <td>28528</td>\n",
       "      <td>16895</td>\n",
       "      <td>2018-01-20T10:23:41</td>\n",
       "      <td>150</td>\n",
       "      <td>purchase</td>\n",
       "    </tr>\n",
       "    <tr>\n",
       "      <th>9</th>\n",
       "      <td>83896</td>\n",
       "      <td>level_choice</td>\n",
       "      <td>easy</td>\n",
       "      <td>2018-01-24T00:03:33</td>\n",
       "      <td>NaN</td>\n",
       "      <td>28897</td>\n",
       "      <td>16951</td>\n",
       "      <td>2018-01-29T18:41:17</td>\n",
       "      <td>100</td>\n",
       "      <td>purchase</td>\n",
       "    </tr>\n",
       "  </tbody>\n",
       "</table>\n",
       "</div>"
      ],
      "text/plain": [
       "   event_id  event_type_x selected_level           start_time  tutorial_id  \\\n",
       "0     80488  level_choice           easy  2018-01-04T16:18:39          NaN   \n",
       "1     81064  level_choice           easy  2018-01-09T21:34:23          NaN   \n",
       "2     81472  level_choice           easy  2018-01-11T18:44:45          NaN   \n",
       "3     81513  level_choice           easy  2018-01-11T21:10:51          NaN   \n",
       "4     81660  level_choice           easy  2018-01-12T16:48:24          NaN   \n",
       "5     81667  level_choice           easy  2018-01-12T17:23:50          NaN   \n",
       "6     82042  level_choice           easy  2018-01-15T20:09:23          NaN   \n",
       "7     82575  level_choice           easy  2018-01-18T13:40:43          NaN   \n",
       "8     82673  level_choice           easy  2018-01-18T19:38:15          NaN   \n",
       "9     83896  level_choice           easy  2018-01-24T00:03:33          NaN   \n",
       "\n",
       "   user_id  purch_id       event_datetime  amount event_type_y  \n",
       "0    27884     16854  2018-01-08T19:37:34     150     purchase  \n",
       "1    28090     16873  2018-01-15T23:42:55     100     purchase  \n",
       "2    28182     16865  2018-01-12T02:46:01     200     purchase  \n",
       "3    28207     16867  2018-01-12T21:00:24     150     purchase  \n",
       "4    28254     16892  2018-01-19T22:08:40      50     purchase  \n",
       "5    28247     16884  2018-01-18T18:32:05     150     purchase  \n",
       "6    28378     16880  2018-01-18T02:11:41     100     purchase  \n",
       "7    28546     16917  2018-01-23T22:55:27     200     purchase  \n",
       "8    28528     16895  2018-01-20T10:23:41     150     purchase  \n",
       "9    28897     16951  2018-01-29T18:41:17     100     purchase  "
      ]
     },
     "execution_count": 227,
     "metadata": {},
     "output_type": "execute_result"
    }
   ],
   "source": [
    "merged_easy = easy_lvl_users.merge(purch_easy_df, on = 'user_id', how = 'inner')\n",
    "merged_easy.head(10)"
   ]
  },
  {
   "cell_type": "code",
   "execution_count": 228,
   "metadata": {},
   "outputs": [
    {
     "data": {
      "text/html": [
       "<div>\n",
       "<style scoped>\n",
       "    .dataframe tbody tr th:only-of-type {\n",
       "        vertical-align: middle;\n",
       "    }\n",
       "\n",
       "    .dataframe tbody tr th {\n",
       "        vertical-align: top;\n",
       "    }\n",
       "\n",
       "    .dataframe thead th {\n",
       "        text-align: right;\n",
       "    }\n",
       "</style>\n",
       "<table border=\"1\" class=\"dataframe\">\n",
       "  <thead>\n",
       "    <tr style=\"text-align: right;\">\n",
       "      <th></th>\n",
       "      <th>event_id</th>\n",
       "      <th>event_type_x</th>\n",
       "      <th>selected_level</th>\n",
       "      <th>start_time</th>\n",
       "      <th>tutorial_id</th>\n",
       "      <th>user_id</th>\n",
       "      <th>purch_id</th>\n",
       "      <th>event_datetime</th>\n",
       "      <th>amount</th>\n",
       "      <th>event_type_y</th>\n",
       "    </tr>\n",
       "  </thead>\n",
       "  <tbody>\n",
       "    <tr>\n",
       "      <th>0</th>\n",
       "      <td>80745</td>\n",
       "      <td>level_choice</td>\n",
       "      <td>medium</td>\n",
       "      <td>2018-01-07T05:29:30</td>\n",
       "      <td>NaN</td>\n",
       "      <td>27973</td>\n",
       "      <td>16869</td>\n",
       "      <td>2018-01-13T21:50:00</td>\n",
       "      <td>150</td>\n",
       "      <td>purchase</td>\n",
       "    </tr>\n",
       "    <tr>\n",
       "      <th>1</th>\n",
       "      <td>80761</td>\n",
       "      <td>level_choice</td>\n",
       "      <td>medium</td>\n",
       "      <td>2018-01-07T10:46:14</td>\n",
       "      <td>NaN</td>\n",
       "      <td>27981</td>\n",
       "      <td>16852</td>\n",
       "      <td>2018-01-07T23:20:25</td>\n",
       "      <td>50</td>\n",
       "      <td>purchase</td>\n",
       "    </tr>\n",
       "    <tr>\n",
       "      <th>2</th>\n",
       "      <td>80840</td>\n",
       "      <td>level_choice</td>\n",
       "      <td>medium</td>\n",
       "      <td>2018-01-08T00:00:52</td>\n",
       "      <td>NaN</td>\n",
       "      <td>28010</td>\n",
       "      <td>16858</td>\n",
       "      <td>2018-01-10T05:32:47</td>\n",
       "      <td>50</td>\n",
       "      <td>purchase</td>\n",
       "    </tr>\n",
       "    <tr>\n",
       "      <th>3</th>\n",
       "      <td>80885</td>\n",
       "      <td>level_choice</td>\n",
       "      <td>medium</td>\n",
       "      <td>2018-01-08T14:47:35</td>\n",
       "      <td>NaN</td>\n",
       "      <td>28020</td>\n",
       "      <td>16863</td>\n",
       "      <td>2018-01-11T21:43:03</td>\n",
       "      <td>50</td>\n",
       "      <td>purchase</td>\n",
       "    </tr>\n",
       "    <tr>\n",
       "      <th>4</th>\n",
       "      <td>80900</td>\n",
       "      <td>level_choice</td>\n",
       "      <td>medium</td>\n",
       "      <td>2018-01-08T17:06:39</td>\n",
       "      <td>NaN</td>\n",
       "      <td>28033</td>\n",
       "      <td>16874</td>\n",
       "      <td>2018-01-16T05:08:41</td>\n",
       "      <td>100</td>\n",
       "      <td>purchase</td>\n",
       "    </tr>\n",
       "    <tr>\n",
       "      <th>5</th>\n",
       "      <td>80915</td>\n",
       "      <td>level_choice</td>\n",
       "      <td>medium</td>\n",
       "      <td>2018-01-08T19:29:13</td>\n",
       "      <td>NaN</td>\n",
       "      <td>28026</td>\n",
       "      <td>16857</td>\n",
       "      <td>2018-01-09T20:51:27</td>\n",
       "      <td>150</td>\n",
       "      <td>purchase</td>\n",
       "    </tr>\n",
       "    <tr>\n",
       "      <th>6</th>\n",
       "      <td>80945</td>\n",
       "      <td>level_choice</td>\n",
       "      <td>medium</td>\n",
       "      <td>2018-01-08T23:06:42</td>\n",
       "      <td>NaN</td>\n",
       "      <td>28035</td>\n",
       "      <td>16860</td>\n",
       "      <td>2018-01-10T13:59:12</td>\n",
       "      <td>150</td>\n",
       "      <td>purchase</td>\n",
       "    </tr>\n",
       "    <tr>\n",
       "      <th>7</th>\n",
       "      <td>81095</td>\n",
       "      <td>level_choice</td>\n",
       "      <td>medium</td>\n",
       "      <td>2018-01-10T01:25:28</td>\n",
       "      <td>NaN</td>\n",
       "      <td>28094</td>\n",
       "      <td>16859</td>\n",
       "      <td>2018-01-10T13:44:50</td>\n",
       "      <td>100</td>\n",
       "      <td>purchase</td>\n",
       "    </tr>\n",
       "    <tr>\n",
       "      <th>8</th>\n",
       "      <td>81114</td>\n",
       "      <td>level_choice</td>\n",
       "      <td>medium</td>\n",
       "      <td>2018-01-10T04:28:30</td>\n",
       "      <td>NaN</td>\n",
       "      <td>28103</td>\n",
       "      <td>16868</td>\n",
       "      <td>2018-01-12T22:43:04</td>\n",
       "      <td>100</td>\n",
       "      <td>purchase</td>\n",
       "    </tr>\n",
       "    <tr>\n",
       "      <th>9</th>\n",
       "      <td>81160</td>\n",
       "      <td>level_choice</td>\n",
       "      <td>medium</td>\n",
       "      <td>2018-01-10T12:46:50</td>\n",
       "      <td>NaN</td>\n",
       "      <td>28068</td>\n",
       "      <td>16864</td>\n",
       "      <td>2018-01-12T00:15:49</td>\n",
       "      <td>25</td>\n",
       "      <td>purchase</td>\n",
       "    </tr>\n",
       "  </tbody>\n",
       "</table>\n",
       "</div>"
      ],
      "text/plain": [
       "   event_id  event_type_x selected_level           start_time  tutorial_id  \\\n",
       "0     80745  level_choice         medium  2018-01-07T05:29:30          NaN   \n",
       "1     80761  level_choice         medium  2018-01-07T10:46:14          NaN   \n",
       "2     80840  level_choice         medium  2018-01-08T00:00:52          NaN   \n",
       "3     80885  level_choice         medium  2018-01-08T14:47:35          NaN   \n",
       "4     80900  level_choice         medium  2018-01-08T17:06:39          NaN   \n",
       "5     80915  level_choice         medium  2018-01-08T19:29:13          NaN   \n",
       "6     80945  level_choice         medium  2018-01-08T23:06:42          NaN   \n",
       "7     81095  level_choice         medium  2018-01-10T01:25:28          NaN   \n",
       "8     81114  level_choice         medium  2018-01-10T04:28:30          NaN   \n",
       "9     81160  level_choice         medium  2018-01-10T12:46:50          NaN   \n",
       "\n",
       "   user_id  purch_id       event_datetime  amount event_type_y  \n",
       "0    27973     16869  2018-01-13T21:50:00     150     purchase  \n",
       "1    27981     16852  2018-01-07T23:20:25      50     purchase  \n",
       "2    28010     16858  2018-01-10T05:32:47      50     purchase  \n",
       "3    28020     16863  2018-01-11T21:43:03      50     purchase  \n",
       "4    28033     16874  2018-01-16T05:08:41     100     purchase  \n",
       "5    28026     16857  2018-01-09T20:51:27     150     purchase  \n",
       "6    28035     16860  2018-01-10T13:59:12     150     purchase  \n",
       "7    28094     16859  2018-01-10T13:44:50     100     purchase  \n",
       "8    28103     16868  2018-01-12T22:43:04     100     purchase  \n",
       "9    28068     16864  2018-01-12T00:15:49      25     purchase  "
      ]
     },
     "execution_count": 228,
     "metadata": {},
     "output_type": "execute_result"
    }
   ],
   "source": [
    "merged_med = med_lvl_users.merge(purch_med_df, on = 'user_id', how = 'inner')\n",
    "merged_med.head(10)"
   ]
  },
  {
   "cell_type": "code",
   "execution_count": 229,
   "metadata": {},
   "outputs": [
    {
     "data": {
      "text/html": [
       "<div>\n",
       "<style scoped>\n",
       "    .dataframe tbody tr th:only-of-type {\n",
       "        vertical-align: middle;\n",
       "    }\n",
       "\n",
       "    .dataframe tbody tr th {\n",
       "        vertical-align: top;\n",
       "    }\n",
       "\n",
       "    .dataframe thead th {\n",
       "        text-align: right;\n",
       "    }\n",
       "</style>\n",
       "<table border=\"1\" class=\"dataframe\">\n",
       "  <thead>\n",
       "    <tr style=\"text-align: right;\">\n",
       "      <th></th>\n",
       "      <th>event_id</th>\n",
       "      <th>event_type_x</th>\n",
       "      <th>selected_level</th>\n",
       "      <th>start_time</th>\n",
       "      <th>tutorial_id</th>\n",
       "      <th>user_id</th>\n",
       "      <th>purch_id</th>\n",
       "      <th>event_datetime</th>\n",
       "      <th>amount</th>\n",
       "      <th>event_type_y</th>\n",
       "    </tr>\n",
       "  </thead>\n",
       "  <tbody>\n",
       "    <tr>\n",
       "      <th>0</th>\n",
       "      <td>80346</td>\n",
       "      <td>level_choice</td>\n",
       "      <td>hard</td>\n",
       "      <td>2018-01-02T06:19:18</td>\n",
       "      <td>NaN</td>\n",
       "      <td>27845</td>\n",
       "      <td>16845</td>\n",
       "      <td>2018-01-03T18:53:43</td>\n",
       "      <td>100</td>\n",
       "      <td>purchase</td>\n",
       "    </tr>\n",
       "    <tr>\n",
       "      <th>1</th>\n",
       "      <td>80459</td>\n",
       "      <td>level_choice</td>\n",
       "      <td>hard</td>\n",
       "      <td>2018-01-04T05:56:32</td>\n",
       "      <td>NaN</td>\n",
       "      <td>27865</td>\n",
       "      <td>16846</td>\n",
       "      <td>2018-01-04T14:46:10</td>\n",
       "      <td>250</td>\n",
       "      <td>purchase</td>\n",
       "    </tr>\n",
       "    <tr>\n",
       "      <th>2</th>\n",
       "      <td>80545</td>\n",
       "      <td>level_choice</td>\n",
       "      <td>hard</td>\n",
       "      <td>2018-01-05T11:59:50</td>\n",
       "      <td>NaN</td>\n",
       "      <td>27910</td>\n",
       "      <td>16849</td>\n",
       "      <td>2018-01-07T12:11:34</td>\n",
       "      <td>100</td>\n",
       "      <td>purchase</td>\n",
       "    </tr>\n",
       "    <tr>\n",
       "      <th>3</th>\n",
       "      <td>80572</td>\n",
       "      <td>level_choice</td>\n",
       "      <td>hard</td>\n",
       "      <td>2018-01-05T17:39:02</td>\n",
       "      <td>NaN</td>\n",
       "      <td>27911</td>\n",
       "      <td>16848</td>\n",
       "      <td>2018-01-07T08:19:12</td>\n",
       "      <td>50</td>\n",
       "      <td>purchase</td>\n",
       "    </tr>\n",
       "    <tr>\n",
       "      <th>4</th>\n",
       "      <td>80620</td>\n",
       "      <td>level_choice</td>\n",
       "      <td>hard</td>\n",
       "      <td>2018-01-06T00:32:47</td>\n",
       "      <td>NaN</td>\n",
       "      <td>27940</td>\n",
       "      <td>16850</td>\n",
       "      <td>2018-01-07T13:16:41</td>\n",
       "      <td>200</td>\n",
       "      <td>purchase</td>\n",
       "    </tr>\n",
       "    <tr>\n",
       "      <th>5</th>\n",
       "      <td>80705</td>\n",
       "      <td>level_choice</td>\n",
       "      <td>hard</td>\n",
       "      <td>2018-01-06T20:33:19</td>\n",
       "      <td>NaN</td>\n",
       "      <td>27969</td>\n",
       "      <td>16853</td>\n",
       "      <td>2018-01-08T01:18:23</td>\n",
       "      <td>100</td>\n",
       "      <td>purchase</td>\n",
       "    </tr>\n",
       "    <tr>\n",
       "      <th>6</th>\n",
       "      <td>80710</td>\n",
       "      <td>level_choice</td>\n",
       "      <td>hard</td>\n",
       "      <td>2018-01-06T20:56:05</td>\n",
       "      <td>NaN</td>\n",
       "      <td>27965</td>\n",
       "      <td>16851</td>\n",
       "      <td>2018-01-07T22:55:33</td>\n",
       "      <td>100</td>\n",
       "      <td>purchase</td>\n",
       "    </tr>\n",
       "    <tr>\n",
       "      <th>7</th>\n",
       "      <td>80788</td>\n",
       "      <td>level_choice</td>\n",
       "      <td>hard</td>\n",
       "      <td>2018-01-07T16:40:53</td>\n",
       "      <td>NaN</td>\n",
       "      <td>27977</td>\n",
       "      <td>16855</td>\n",
       "      <td>2018-01-09T14:09:18</td>\n",
       "      <td>25</td>\n",
       "      <td>purchase</td>\n",
       "    </tr>\n",
       "    <tr>\n",
       "      <th>8</th>\n",
       "      <td>80826</td>\n",
       "      <td>level_choice</td>\n",
       "      <td>hard</td>\n",
       "      <td>2018-01-07T21:47:42</td>\n",
       "      <td>NaN</td>\n",
       "      <td>27994</td>\n",
       "      <td>16861</td>\n",
       "      <td>2018-01-11T13:59:06</td>\n",
       "      <td>50</td>\n",
       "      <td>purchase</td>\n",
       "    </tr>\n",
       "    <tr>\n",
       "      <th>9</th>\n",
       "      <td>80835</td>\n",
       "      <td>level_choice</td>\n",
       "      <td>hard</td>\n",
       "      <td>2018-01-07T22:49:27</td>\n",
       "      <td>NaN</td>\n",
       "      <td>27998</td>\n",
       "      <td>16870</td>\n",
       "      <td>2018-01-14T02:13:38</td>\n",
       "      <td>100</td>\n",
       "      <td>purchase</td>\n",
       "    </tr>\n",
       "  </tbody>\n",
       "</table>\n",
       "</div>"
      ],
      "text/plain": [
       "   event_id  event_type_x selected_level           start_time  tutorial_id  \\\n",
       "0     80346  level_choice           hard  2018-01-02T06:19:18          NaN   \n",
       "1     80459  level_choice           hard  2018-01-04T05:56:32          NaN   \n",
       "2     80545  level_choice           hard  2018-01-05T11:59:50          NaN   \n",
       "3     80572  level_choice           hard  2018-01-05T17:39:02          NaN   \n",
       "4     80620  level_choice           hard  2018-01-06T00:32:47          NaN   \n",
       "5     80705  level_choice           hard  2018-01-06T20:33:19          NaN   \n",
       "6     80710  level_choice           hard  2018-01-06T20:56:05          NaN   \n",
       "7     80788  level_choice           hard  2018-01-07T16:40:53          NaN   \n",
       "8     80826  level_choice           hard  2018-01-07T21:47:42          NaN   \n",
       "9     80835  level_choice           hard  2018-01-07T22:49:27          NaN   \n",
       "\n",
       "   user_id  purch_id       event_datetime  amount event_type_y  \n",
       "0    27845     16845  2018-01-03T18:53:43     100     purchase  \n",
       "1    27865     16846  2018-01-04T14:46:10     250     purchase  \n",
       "2    27910     16849  2018-01-07T12:11:34     100     purchase  \n",
       "3    27911     16848  2018-01-07T08:19:12      50     purchase  \n",
       "4    27940     16850  2018-01-07T13:16:41     200     purchase  \n",
       "5    27969     16853  2018-01-08T01:18:23     100     purchase  \n",
       "6    27965     16851  2018-01-07T22:55:33     100     purchase  \n",
       "7    27977     16855  2018-01-09T14:09:18      25     purchase  \n",
       "8    27994     16861  2018-01-11T13:59:06      50     purchase  \n",
       "9    27998     16870  2018-01-14T02:13:38     100     purchase  "
      ]
     },
     "execution_count": 229,
     "metadata": {},
     "output_type": "execute_result"
    }
   ],
   "source": [
    "merged_hard = hard_lvl_users.merge(purch_hard_df, on = 'user_id', how = 'inner')\n",
    "merged_hard.head(10)"
   ]
  },
  {
   "cell_type": "markdown",
   "metadata": {},
   "source": [
    "### Разница во времени между  выбором уровня и оплатой для разных групп пользователей"
   ]
  },
  {
   "cell_type": "code",
   "execution_count": 230,
   "metadata": {},
   "outputs": [
    {
     "data": {
      "text/html": [
       "<div>\n",
       "<style scoped>\n",
       "    .dataframe tbody tr th:only-of-type {\n",
       "        vertical-align: middle;\n",
       "    }\n",
       "\n",
       "    .dataframe tbody tr th {\n",
       "        vertical-align: top;\n",
       "    }\n",
       "\n",
       "    .dataframe thead th {\n",
       "        text-align: right;\n",
       "    }\n",
       "</style>\n",
       "<table border=\"1\" class=\"dataframe\">\n",
       "  <thead>\n",
       "    <tr style=\"text-align: right;\">\n",
       "      <th></th>\n",
       "      <th>event_id</th>\n",
       "      <th>event_type_x</th>\n",
       "      <th>selected_level</th>\n",
       "      <th>start_time</th>\n",
       "      <th>tutorial_id</th>\n",
       "      <th>user_id</th>\n",
       "      <th>purch_id</th>\n",
       "      <th>event_datetime</th>\n",
       "      <th>amount</th>\n",
       "      <th>event_type_y</th>\n",
       "      <th>timedelta</th>\n",
       "    </tr>\n",
       "  </thead>\n",
       "  <tbody>\n",
       "    <tr>\n",
       "      <th>0</th>\n",
       "      <td>80488</td>\n",
       "      <td>level_choice</td>\n",
       "      <td>easy</td>\n",
       "      <td>2018-01-04T16:18:39</td>\n",
       "      <td>NaN</td>\n",
       "      <td>27884</td>\n",
       "      <td>16854</td>\n",
       "      <td>2018-01-08T19:37:34</td>\n",
       "      <td>150</td>\n",
       "      <td>purchase</td>\n",
       "      <td>4 days 03:18:55</td>\n",
       "    </tr>\n",
       "    <tr>\n",
       "      <th>1</th>\n",
       "      <td>81064</td>\n",
       "      <td>level_choice</td>\n",
       "      <td>easy</td>\n",
       "      <td>2018-01-09T21:34:23</td>\n",
       "      <td>NaN</td>\n",
       "      <td>28090</td>\n",
       "      <td>16873</td>\n",
       "      <td>2018-01-15T23:42:55</td>\n",
       "      <td>100</td>\n",
       "      <td>purchase</td>\n",
       "      <td>6 days 02:08:32</td>\n",
       "    </tr>\n",
       "    <tr>\n",
       "      <th>2</th>\n",
       "      <td>81472</td>\n",
       "      <td>level_choice</td>\n",
       "      <td>easy</td>\n",
       "      <td>2018-01-11T18:44:45</td>\n",
       "      <td>NaN</td>\n",
       "      <td>28182</td>\n",
       "      <td>16865</td>\n",
       "      <td>2018-01-12T02:46:01</td>\n",
       "      <td>200</td>\n",
       "      <td>purchase</td>\n",
       "      <td>0 days 08:01:16</td>\n",
       "    </tr>\n",
       "    <tr>\n",
       "      <th>3</th>\n",
       "      <td>81513</td>\n",
       "      <td>level_choice</td>\n",
       "      <td>easy</td>\n",
       "      <td>2018-01-11T21:10:51</td>\n",
       "      <td>NaN</td>\n",
       "      <td>28207</td>\n",
       "      <td>16867</td>\n",
       "      <td>2018-01-12T21:00:24</td>\n",
       "      <td>150</td>\n",
       "      <td>purchase</td>\n",
       "      <td>0 days 23:49:33</td>\n",
       "    </tr>\n",
       "    <tr>\n",
       "      <th>4</th>\n",
       "      <td>81660</td>\n",
       "      <td>level_choice</td>\n",
       "      <td>easy</td>\n",
       "      <td>2018-01-12T16:48:24</td>\n",
       "      <td>NaN</td>\n",
       "      <td>28254</td>\n",
       "      <td>16892</td>\n",
       "      <td>2018-01-19T22:08:40</td>\n",
       "      <td>50</td>\n",
       "      <td>purchase</td>\n",
       "      <td>7 days 05:20:16</td>\n",
       "    </tr>\n",
       "  </tbody>\n",
       "</table>\n",
       "</div>"
      ],
      "text/plain": [
       "   event_id  event_type_x selected_level           start_time  tutorial_id  \\\n",
       "0     80488  level_choice           easy  2018-01-04T16:18:39          NaN   \n",
       "1     81064  level_choice           easy  2018-01-09T21:34:23          NaN   \n",
       "2     81472  level_choice           easy  2018-01-11T18:44:45          NaN   \n",
       "3     81513  level_choice           easy  2018-01-11T21:10:51          NaN   \n",
       "4     81660  level_choice           easy  2018-01-12T16:48:24          NaN   \n",
       "\n",
       "   user_id  purch_id       event_datetime  amount event_type_y       timedelta  \n",
       "0    27884     16854  2018-01-08T19:37:34     150     purchase 4 days 03:18:55  \n",
       "1    28090     16873  2018-01-15T23:42:55     100     purchase 6 days 02:08:32  \n",
       "2    28182     16865  2018-01-12T02:46:01     200     purchase 0 days 08:01:16  \n",
       "3    28207     16867  2018-01-12T21:00:24     150     purchase 0 days 23:49:33  \n",
       "4    28254     16892  2018-01-19T22:08:40      50     purchase 7 days 05:20:16  "
      ]
     },
     "execution_count": 230,
     "metadata": {},
     "output_type": "execute_result"
    }
   ],
   "source": [
    "merged_easy['timedelta'] = pd.to_datetime(merged_easy['event_datetime']) - pd.to_datetime(merged_easy['start_time'])\n",
    "merged_easy.head()"
   ]
  },
  {
   "cell_type": "code",
   "execution_count": 231,
   "metadata": {},
   "outputs": [
    {
     "data": {
      "text/plain": [
       "Timedelta('3 days 14:58:52.941798941')"
      ]
     },
     "execution_count": 231,
     "metadata": {},
     "output_type": "execute_result"
    }
   ],
   "source": [
    "merged_easy['timedelta'].mean()"
   ]
  },
  {
   "cell_type": "code",
   "execution_count": 233,
   "metadata": {},
   "outputs": [
    {
     "data": {
      "text/plain": [
       "count                          189\n",
       "mean     3 days 14:58:52.941798941\n",
       "std      2 days 07:06:35.644097504\n",
       "min                0 days 00:49:20\n",
       "25%                1 days 17:18:56\n",
       "50%                3 days 06:03:50\n",
       "75%                5 days 06:58:18\n",
       "max               10 days 18:35:09\n",
       "Name: timedelta, dtype: object"
      ]
     },
     "execution_count": 233,
     "metadata": {},
     "output_type": "execute_result"
    }
   ],
   "source": [
    "merged_easy['timedelta'].describe()"
   ]
  },
  {
   "cell_type": "code",
   "execution_count": 237,
   "metadata": {},
   "outputs": [
    {
     "data": {
      "text/plain": [
       "Timedelta('3 days 23:14:13.165118679')"
      ]
     },
     "execution_count": 237,
     "metadata": {},
     "output_type": "execute_result"
    }
   ],
   "source": [
    "merged_med['timedelta'] = pd.to_datetime(merged_med['event_datetime']) - pd.to_datetime(merged_med['start_time'])\n",
    "merged_med.head()\n",
    "merged_med['timedelta'].mean()"
   ]
  },
  {
   "cell_type": "code",
   "execution_count": 236,
   "metadata": {},
   "outputs": [
    {
     "data": {
      "text/plain": [
       "count                          969\n",
       "mean     3 days 23:14:13.165118679\n",
       "std      2 days 06:18:57.618467109\n",
       "min                0 days 04:18:12\n",
       "25%                2 days 01:20:07\n",
       "50%                3 days 19:53:19\n",
       "75%                5 days 16:07:19\n",
       "max               10 days 13:51:01\n",
       "Name: timedelta, dtype: object"
      ]
     },
     "execution_count": 236,
     "metadata": {},
     "output_type": "execute_result"
    }
   ],
   "source": [
    "merged_med['timedelta'].describe()"
   ]
  },
  {
   "cell_type": "code",
   "execution_count": 238,
   "metadata": {},
   "outputs": [
    {
     "data": {
      "text/plain": [
       "Timedelta('3 days 07:20:41.420814479')"
      ]
     },
     "execution_count": 238,
     "metadata": {},
     "output_type": "execute_result"
    }
   ],
   "source": [
    "merged_hard['timedelta'] = pd.to_datetime(merged_hard['event_datetime']) - pd.to_datetime(merged_hard['start_time'])\n",
    "merged_hard.head()\n",
    "merged_hard['timedelta'].mean()"
   ]
  },
  {
   "cell_type": "code",
   "execution_count": 239,
   "metadata": {},
   "outputs": [
    {
     "data": {
      "text/plain": [
       "count                          442\n",
       "mean     3 days 07:20:41.420814479\n",
       "std      1 days 21:43:52.953292605\n",
       "min                0 days 03:26:45\n",
       "25%         1 days 14:57:23.500000\n",
       "50%         3 days 03:13:57.500000\n",
       "75%         4 days 19:16:00.250000\n",
       "max                8 days 01:18:13\n",
       "Name: timedelta, dtype: object"
      ]
     },
     "execution_count": 239,
     "metadata": {},
     "output_type": "execute_result"
    }
   ],
   "source": [
    "merged_hard['timedelta'].describe()"
   ]
  },
  {
   "cell_type": "markdown",
   "metadata": {},
   "source": [
    "### Опредленной зависимости между событиями регистрации и оплаты для разных групп пользователей с разным уровнем сложности нет.\n",
    "### Наибольшее время между событием выбора уровня сложности и моментом первой оплаты, тратят пользователи, которые выбрали уровень сложности \"medium\". Для них среднее время составляет 3 дня 23 часа. \n",
    "### Меньше всего времени тратят, пользователи, выбравшие уровень  \"hard\" - 3 дня 7 часов.\n",
    "### Пользователи, которые выбрали уровень \"easy\", тратят 3 дня 15 часов."
   ]
  }
 ],
 "metadata": {
  "kernelspec": {
   "display_name": "Python 3",
   "language": "python",
   "name": "python3"
  },
  "language_info": {
   "codemirror_mode": {
    "name": "ipython",
    "version": 3
   },
   "file_extension": ".py",
   "mimetype": "text/x-python",
   "name": "python",
   "nbconvert_exporter": "python",
   "pygments_lexer": "ipython3",
   "version": "3.8.5"
  }
 },
 "nbformat": 4,
 "nbformat_minor": 4
}
